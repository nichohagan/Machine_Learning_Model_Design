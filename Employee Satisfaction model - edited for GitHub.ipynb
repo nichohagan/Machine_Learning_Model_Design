{
 "cells": [
  {
   "cell_type": "markdown",
   "metadata": {
    "id": "OWLMBCgxUMfj"
   },
   "source": [
    "## Task: Predict Employee satifaction \n",
    "In this activity, I test several models for **predicting numeric outcomes**. Is there a chance of them leaving the organization? \n",
    "\n",
    "I will be using an \"EmployeeSatisfaction\" dataset to predict how satisfied an employee is based on other determinants such as Age, Gender, Education Level, Job Level, etc. The dataset is made up of 12 columns and 625 rows."
   ]
  },
  {
   "cell_type": "code",
   "execution_count": 8,
   "metadata": {
    "id": "cJN4ToHIUCtr"
   },
   "outputs": [
    {
     "data": {
      "text/html": [
       "<div>\n",
       "<style scoped>\n",
       "    .dataframe tbody tr th:only-of-type {\n",
       "        vertical-align: middle;\n",
       "    }\n",
       "\n",
       "    .dataframe tbody tr th {\n",
       "        vertical-align: top;\n",
       "    }\n",
       "\n",
       "    .dataframe thead th {\n",
       "        text-align: right;\n",
       "    }\n",
       "</style>\n",
       "<table border=\"1\" class=\"dataframe\">\n",
       "  <thead>\n",
       "    <tr style=\"text-align: right;\">\n",
       "      <th></th>\n",
       "      <th>Employee ID</th>\n",
       "      <th>Age</th>\n",
       "      <th>Gender</th>\n",
       "      <th>Education Level</th>\n",
       "      <th>HourlyRate</th>\n",
       "      <th>JobLevel</th>\n",
       "      <th>YearsSincePromotion</th>\n",
       "      <th>WeeklyHoursWorked</th>\n",
       "      <th>LastPerformanceRating</th>\n",
       "      <th>YearsAtCompany</th>\n",
       "      <th>YearsCurrentRole</th>\n",
       "      <th>JobSatisfactionRating</th>\n",
       "    </tr>\n",
       "  </thead>\n",
       "  <tbody>\n",
       "    <tr>\n",
       "      <th>0</th>\n",
       "      <td>1</td>\n",
       "      <td>41</td>\n",
       "      <td>0</td>\n",
       "      <td>2</td>\n",
       "      <td>94</td>\n",
       "      <td>2</td>\n",
       "      <td>3</td>\n",
       "      <td>40</td>\n",
       "      <td>3</td>\n",
       "      <td>6</td>\n",
       "      <td>4</td>\n",
       "      <td>9</td>\n",
       "    </tr>\n",
       "    <tr>\n",
       "      <th>1</th>\n",
       "      <td>2</td>\n",
       "      <td>49</td>\n",
       "      <td>1</td>\n",
       "      <td>1</td>\n",
       "      <td>61</td>\n",
       "      <td>8</td>\n",
       "      <td>1</td>\n",
       "      <td>47</td>\n",
       "      <td>4</td>\n",
       "      <td>10</td>\n",
       "      <td>7</td>\n",
       "      <td>9</td>\n",
       "    </tr>\n",
       "    <tr>\n",
       "      <th>2</th>\n",
       "      <td>3</td>\n",
       "      <td>37</td>\n",
       "      <td>1</td>\n",
       "      <td>2</td>\n",
       "      <td>92</td>\n",
       "      <td>1</td>\n",
       "      <td>0</td>\n",
       "      <td>40</td>\n",
       "      <td>3</td>\n",
       "      <td>0</td>\n",
       "      <td>0</td>\n",
       "      <td>9</td>\n",
       "    </tr>\n",
       "    <tr>\n",
       "      <th>3</th>\n",
       "      <td>4</td>\n",
       "      <td>33</td>\n",
       "      <td>0</td>\n",
       "      <td>4</td>\n",
       "      <td>56</td>\n",
       "      <td>1</td>\n",
       "      <td>3</td>\n",
       "      <td>40</td>\n",
       "      <td>3</td>\n",
       "      <td>8</td>\n",
       "      <td>7</td>\n",
       "      <td>6</td>\n",
       "    </tr>\n",
       "    <tr>\n",
       "      <th>4</th>\n",
       "      <td>5</td>\n",
       "      <td>27</td>\n",
       "      <td>1</td>\n",
       "      <td>1</td>\n",
       "      <td>140</td>\n",
       "      <td>7</td>\n",
       "      <td>2</td>\n",
       "      <td>40</td>\n",
       "      <td>3</td>\n",
       "      <td>2</td>\n",
       "      <td>2</td>\n",
       "      <td>8</td>\n",
       "    </tr>\n",
       "    <tr>\n",
       "      <th>...</th>\n",
       "      <td>...</td>\n",
       "      <td>...</td>\n",
       "      <td>...</td>\n",
       "      <td>...</td>\n",
       "      <td>...</td>\n",
       "      <td>...</td>\n",
       "      <td>...</td>\n",
       "      <td>...</td>\n",
       "      <td>...</td>\n",
       "      <td>...</td>\n",
       "      <td>...</td>\n",
       "      <td>...</td>\n",
       "    </tr>\n",
       "    <tr>\n",
       "      <th>620</th>\n",
       "      <td>621</td>\n",
       "      <td>35</td>\n",
       "      <td>0</td>\n",
       "      <td>1</td>\n",
       "      <td>153</td>\n",
       "      <td>1</td>\n",
       "      <td>1</td>\n",
       "      <td>44</td>\n",
       "      <td>3</td>\n",
       "      <td>6</td>\n",
       "      <td>5</td>\n",
       "      <td>7</td>\n",
       "    </tr>\n",
       "    <tr>\n",
       "      <th>621</th>\n",
       "      <td>622</td>\n",
       "      <td>36</td>\n",
       "      <td>1</td>\n",
       "      <td>2</td>\n",
       "      <td>56</td>\n",
       "      <td>2</td>\n",
       "      <td>4</td>\n",
       "      <td>40</td>\n",
       "      <td>3</td>\n",
       "      <td>18</td>\n",
       "      <td>14</td>\n",
       "      <td>5</td>\n",
       "    </tr>\n",
       "    <tr>\n",
       "      <th>622</th>\n",
       "      <td>623</td>\n",
       "      <td>32</td>\n",
       "      <td>1</td>\n",
       "      <td>4</td>\n",
       "      <td>73</td>\n",
       "      <td>2</td>\n",
       "      <td>0</td>\n",
       "      <td>40</td>\n",
       "      <td>3</td>\n",
       "      <td>5</td>\n",
       "      <td>2</td>\n",
       "      <td>5</td>\n",
       "    </tr>\n",
       "    <tr>\n",
       "      <th>623</th>\n",
       "      <td>624</td>\n",
       "      <td>30</td>\n",
       "      <td>1</td>\n",
       "      <td>4</td>\n",
       "      <td>75</td>\n",
       "      <td>6</td>\n",
       "      <td>0</td>\n",
       "      <td>40</td>\n",
       "      <td>3</td>\n",
       "      <td>5</td>\n",
       "      <td>4</td>\n",
       "      <td>6</td>\n",
       "    </tr>\n",
       "    <tr>\n",
       "      <th>624</th>\n",
       "      <td>625</td>\n",
       "      <td>53</td>\n",
       "      <td>0</td>\n",
       "      <td>2</td>\n",
       "      <td>78</td>\n",
       "      <td>3</td>\n",
       "      <td>2</td>\n",
       "      <td>50</td>\n",
       "      <td>3</td>\n",
       "      <td>5</td>\n",
       "      <td>2</td>\n",
       "      <td>8</td>\n",
       "    </tr>\n",
       "  </tbody>\n",
       "</table>\n",
       "<p>625 rows × 12 columns</p>\n",
       "</div>"
      ],
      "text/plain": [
       "     Employee ID  Age  Gender  Education Level  HourlyRate  JobLevel  \\\n",
       "0              1   41       0                2          94         2   \n",
       "1              2   49       1                1          61         8   \n",
       "2              3   37       1                2          92         1   \n",
       "3              4   33       0                4          56         1   \n",
       "4              5   27       1                1         140         7   \n",
       "..           ...  ...     ...              ...         ...       ...   \n",
       "620          621   35       0                1         153         1   \n",
       "621          622   36       1                2          56         2   \n",
       "622          623   32       1                4          73         2   \n",
       "623          624   30       1                4          75         6   \n",
       "624          625   53       0                2          78         3   \n",
       "\n",
       "     YearsSincePromotion  WeeklyHoursWorked  LastPerformanceRating  \\\n",
       "0                      3                 40                      3   \n",
       "1                      1                 47                      4   \n",
       "2                      0                 40                      3   \n",
       "3                      3                 40                      3   \n",
       "4                      2                 40                      3   \n",
       "..                   ...                ...                    ...   \n",
       "620                    1                 44                      3   \n",
       "621                    4                 40                      3   \n",
       "622                    0                 40                      3   \n",
       "623                    0                 40                      3   \n",
       "624                    2                 50                      3   \n",
       "\n",
       "     YearsAtCompany  YearsCurrentRole  JobSatisfactionRating  \n",
       "0                 6                 4                      9  \n",
       "1                10                 7                      9  \n",
       "2                 0                 0                      9  \n",
       "3                 8                 7                      6  \n",
       "4                 2                 2                      8  \n",
       "..              ...               ...                    ...  \n",
       "620               6                 5                      7  \n",
       "621              18                14                      5  \n",
       "622               5                 2                      5  \n",
       "623               5                 4                      6  \n",
       "624               5                 2                      8  \n",
       "\n",
       "[625 rows x 12 columns]"
      ]
     },
     "execution_count": 8,
     "metadata": {},
     "output_type": "execute_result"
    }
   ],
   "source": [
    "#loading the 50_startups datasets as a panda dataframe\n",
    "import pandas as pd\n",
    "dataset = pd.read_csv(\"EmpSatisfaction data_LinReg.csv\")\n",
    "dataset"
   ]
  },
  {
   "cell_type": "code",
   "execution_count": 9,
   "metadata": {
    "colab": {
     "base_uri": "https://localhost:8080/",
     "height": 321
    },
    "id": "5DJRHcK0m8Iw",
    "outputId": "05a23397-0b6d-4f2e-eb0a-84853dcddac1"
   },
   "outputs": [
    {
     "data": {
      "text/html": [
       "<div>\n",
       "<style scoped>\n",
       "    .dataframe tbody tr th:only-of-type {\n",
       "        vertical-align: middle;\n",
       "    }\n",
       "\n",
       "    .dataframe tbody tr th {\n",
       "        vertical-align: top;\n",
       "    }\n",
       "\n",
       "    .dataframe thead th {\n",
       "        text-align: right;\n",
       "    }\n",
       "</style>\n",
       "<table border=\"1\" class=\"dataframe\">\n",
       "  <thead>\n",
       "    <tr style=\"text-align: right;\">\n",
       "      <th></th>\n",
       "      <th>Employee ID</th>\n",
       "      <th>Age</th>\n",
       "      <th>Gender</th>\n",
       "      <th>Education Level</th>\n",
       "      <th>HourlyRate</th>\n",
       "      <th>JobLevel</th>\n",
       "      <th>YearsSincePromotion</th>\n",
       "      <th>WeeklyHoursWorked</th>\n",
       "      <th>LastPerformanceRating</th>\n",
       "      <th>YearsAtCompany</th>\n",
       "      <th>YearsCurrentRole</th>\n",
       "      <th>JobSatisfactionRating</th>\n",
       "    </tr>\n",
       "  </thead>\n",
       "  <tbody>\n",
       "    <tr>\n",
       "      <th>count</th>\n",
       "      <td>625.000000</td>\n",
       "      <td>625.000000</td>\n",
       "      <td>625.000000</td>\n",
       "      <td>625.000000</td>\n",
       "      <td>625.000000</td>\n",
       "      <td>625.000000</td>\n",
       "      <td>625.000000</td>\n",
       "      <td>625.000000</td>\n",
       "      <td>625.000000</td>\n",
       "      <td>625.000000</td>\n",
       "      <td>625.000000</td>\n",
       "      <td>625.00000</td>\n",
       "    </tr>\n",
       "    <tr>\n",
       "      <th>mean</th>\n",
       "      <td>313.000000</td>\n",
       "      <td>36.900800</td>\n",
       "      <td>0.595200</td>\n",
       "      <td>2.892800</td>\n",
       "      <td>90.150400</td>\n",
       "      <td>3.974400</td>\n",
       "      <td>2.865600</td>\n",
       "      <td>40.934400</td>\n",
       "      <td>3.163200</td>\n",
       "      <td>7.060800</td>\n",
       "      <td>4.267200</td>\n",
       "      <td>6.82400</td>\n",
       "    </tr>\n",
       "    <tr>\n",
       "      <th>std</th>\n",
       "      <td>180.566239</td>\n",
       "      <td>9.344189</td>\n",
       "      <td>0.491246</td>\n",
       "      <td>1.036063</td>\n",
       "      <td>41.455836</td>\n",
       "      <td>2.575025</td>\n",
       "      <td>3.306634</td>\n",
       "      <td>7.576988</td>\n",
       "      <td>0.369844</td>\n",
       "      <td>6.446487</td>\n",
       "      <td>3.667769</td>\n",
       "      <td>1.75897</td>\n",
       "    </tr>\n",
       "    <tr>\n",
       "      <th>min</th>\n",
       "      <td>1.000000</td>\n",
       "      <td>18.000000</td>\n",
       "      <td>0.000000</td>\n",
       "      <td>1.000000</td>\n",
       "      <td>30.000000</td>\n",
       "      <td>1.000000</td>\n",
       "      <td>0.000000</td>\n",
       "      <td>16.000000</td>\n",
       "      <td>3.000000</td>\n",
       "      <td>0.000000</td>\n",
       "      <td>0.000000</td>\n",
       "      <td>2.00000</td>\n",
       "    </tr>\n",
       "    <tr>\n",
       "      <th>25%</th>\n",
       "      <td>157.000000</td>\n",
       "      <td>30.000000</td>\n",
       "      <td>0.000000</td>\n",
       "      <td>2.000000</td>\n",
       "      <td>59.000000</td>\n",
       "      <td>2.000000</td>\n",
       "      <td>0.000000</td>\n",
       "      <td>40.000000</td>\n",
       "      <td>3.000000</td>\n",
       "      <td>3.000000</td>\n",
       "      <td>2.000000</td>\n",
       "      <td>6.00000</td>\n",
       "    </tr>\n",
       "    <tr>\n",
       "      <th>50%</th>\n",
       "      <td>313.000000</td>\n",
       "      <td>35.000000</td>\n",
       "      <td>1.000000</td>\n",
       "      <td>3.000000</td>\n",
       "      <td>79.000000</td>\n",
       "      <td>3.000000</td>\n",
       "      <td>1.000000</td>\n",
       "      <td>40.000000</td>\n",
       "      <td>3.000000</td>\n",
       "      <td>5.000000</td>\n",
       "      <td>3.000000</td>\n",
       "      <td>7.00000</td>\n",
       "    </tr>\n",
       "    <tr>\n",
       "      <th>75%</th>\n",
       "      <td>469.000000</td>\n",
       "      <td>43.000000</td>\n",
       "      <td>1.000000</td>\n",
       "      <td>4.000000</td>\n",
       "      <td>122.000000</td>\n",
       "      <td>6.000000</td>\n",
       "      <td>4.000000</td>\n",
       "      <td>45.000000</td>\n",
       "      <td>3.000000</td>\n",
       "      <td>9.000000</td>\n",
       "      <td>7.000000</td>\n",
       "      <td>8.00000</td>\n",
       "    </tr>\n",
       "    <tr>\n",
       "      <th>max</th>\n",
       "      <td>625.000000</td>\n",
       "      <td>60.000000</td>\n",
       "      <td>1.000000</td>\n",
       "      <td>5.000000</td>\n",
       "      <td>193.000000</td>\n",
       "      <td>10.000000</td>\n",
       "      <td>15.000000</td>\n",
       "      <td>96.000000</td>\n",
       "      <td>4.000000</td>\n",
       "      <td>40.000000</td>\n",
       "      <td>18.000000</td>\n",
       "      <td>10.00000</td>\n",
       "    </tr>\n",
       "  </tbody>\n",
       "</table>\n",
       "</div>"
      ],
      "text/plain": [
       "       Employee ID         Age      Gender  Education Level  HourlyRate  \\\n",
       "count   625.000000  625.000000  625.000000       625.000000  625.000000   \n",
       "mean    313.000000   36.900800    0.595200         2.892800   90.150400   \n",
       "std     180.566239    9.344189    0.491246         1.036063   41.455836   \n",
       "min       1.000000   18.000000    0.000000         1.000000   30.000000   \n",
       "25%     157.000000   30.000000    0.000000         2.000000   59.000000   \n",
       "50%     313.000000   35.000000    1.000000         3.000000   79.000000   \n",
       "75%     469.000000   43.000000    1.000000         4.000000  122.000000   \n",
       "max     625.000000   60.000000    1.000000         5.000000  193.000000   \n",
       "\n",
       "         JobLevel  YearsSincePromotion  WeeklyHoursWorked  \\\n",
       "count  625.000000           625.000000         625.000000   \n",
       "mean     3.974400             2.865600          40.934400   \n",
       "std      2.575025             3.306634           7.576988   \n",
       "min      1.000000             0.000000          16.000000   \n",
       "25%      2.000000             0.000000          40.000000   \n",
       "50%      3.000000             1.000000          40.000000   \n",
       "75%      6.000000             4.000000          45.000000   \n",
       "max     10.000000            15.000000          96.000000   \n",
       "\n",
       "       LastPerformanceRating  YearsAtCompany  YearsCurrentRole  \\\n",
       "count             625.000000      625.000000        625.000000   \n",
       "mean                3.163200        7.060800          4.267200   \n",
       "std                 0.369844        6.446487          3.667769   \n",
       "min                 3.000000        0.000000          0.000000   \n",
       "25%                 3.000000        3.000000          2.000000   \n",
       "50%                 3.000000        5.000000          3.000000   \n",
       "75%                 3.000000        9.000000          7.000000   \n",
       "max                 4.000000       40.000000         18.000000   \n",
       "\n",
       "       JobSatisfactionRating  \n",
       "count              625.00000  \n",
       "mean                 6.82400  \n",
       "std                  1.75897  \n",
       "min                  2.00000  \n",
       "25%                  6.00000  \n",
       "50%                  7.00000  \n",
       "75%                  8.00000  \n",
       "max                 10.00000  "
      ]
     },
     "execution_count": 9,
     "metadata": {},
     "output_type": "execute_result"
    }
   ],
   "source": [
    "#take a look a descriptive statistics \n",
    "dataset.describe()"
   ]
  },
  {
   "cell_type": "markdown",
   "metadata": {
    "id": "omXJXwfugd6p"
   },
   "source": [
    "### Data Visualization\n",
    "I will use the \"seaborn library\" to create some visualizations"
   ]
  },
  {
   "cell_type": "code",
   "execution_count": 10,
   "metadata": {
    "colab": {
     "base_uri": "https://localhost:8080/",
     "height": 352
    },
    "id": "FrSkfXsmciNl",
    "outputId": "c4278c00-9b58-4e7a-b5ff-4d9d7792829e"
   },
   "outputs": [
    {
     "name": "stderr",
     "output_type": "stream",
     "text": [
      "C:\\Users\\nicho\\anaconda3\\lib\\site-packages\\seaborn\\distributions.py:2619: FutureWarning: `distplot` is a deprecated function and will be removed in a future version. Please adapt your code to use either `displot` (a figure-level function with similar flexibility) or `histplot` (an axes-level function for histograms).\n",
      "  warnings.warn(msg, FutureWarning)\n"
     ]
    },
    {
     "data": {
      "text/plain": [
       "<AxesSubplot:xlabel='Age', ylabel='Density'>"
      ]
     },
     "execution_count": 10,
     "metadata": {},
     "output_type": "execute_result"
    },
    {
     "data": {
      "image/png": "[encoded data removed]",
      "text/plain": [
       "<Figure size 432x288 with 1 Axes>"
      ]
     },
     "metadata": {
      "needs_background": "light"
     },
     "output_type": "display_data"
    }
   ],
   "source": [
    "#visually exploring the dataset \n",
    "#the next few cells demonstrate several graphs that can be useful to visually explore your data\n",
    "import seaborn as sb\n",
    "sb.distplot(dataset['Age']) #histogram for R&D spending"
   ]
  },
  {
   "cell_type": "code",
   "execution_count": 11,
   "metadata": {
    "colab": {
     "base_uri": "https://localhost:8080/",
     "height": 352
    },
    "id": "lb2feJmycuzW",
    "outputId": "9b797bda-704a-49f1-a70e-e5e735c7470d"
   },
   "outputs": [
    {
     "name": "stderr",
     "output_type": "stream",
     "text": [
      "C:\\Users\\nicho\\anaconda3\\lib\\site-packages\\seaborn\\distributions.py:2619: FutureWarning: `distplot` is a deprecated function and will be removed in a future version. Please adapt your code to use either `displot` (a figure-level function with similar flexibility) or `histplot` (an axes-level function for histograms).\n",
      "  warnings.warn(msg, FutureWarning)\n"
     ]
    },
    {
     "data": {
      "text/plain": [
       "<AxesSubplot:xlabel='WeeklyHoursWorked', ylabel='Density'>"
      ]
     },
     "execution_count": 11,
     "metadata": {},
     "output_type": "execute_result"
    },
    {
     "data": {
      "image/png": "[encoded data removed]",
      "text/plain": [
       "<Figure size 432x288 with 1 Axes>"
      ]
     },
     "metadata": {
      "needs_background": "light"
     },
     "output_type": "display_data"
    }
   ],
   "source": [
    "sb.distplot(dataset['WeeklyHoursWorked']) #histogram for Administration spending"
   ]
  },
  {
   "cell_type": "code",
   "execution_count": 12,
   "metadata": {
    "colab": {
     "base_uri": "https://localhost:8080/",
     "height": 300
    },
    "id": "CWvn_hPzdkbP",
    "outputId": "b98a7fa1-ab18-4fd9-ee4e-d1cc7ecfdfd4"
   },
   "outputs": [
    {
     "data": {
      "text/plain": [
       "<AxesSubplot:xlabel='Gender', ylabel='HourlyRate'>"
      ]
     },
     "execution_count": 12,
     "metadata": {},
     "output_type": "execute_result"
    },
    {
     "data": {
      "image/png": "[encoded data removed]",
      "text/plain": [
       "<Figure size 432x288 with 1 Axes>"
      ]
     },
     "metadata": {
      "needs_background": "light"
     },
     "output_type": "display_data"
    }
   ],
   "source": [
    "#comparing R&D spending across states using box\n",
    "sb.boxplot(x=\"Gender\",y=\"HourlyRate\", data=dataset)"
   ]
  },
  {
   "cell_type": "code",
   "execution_count": 13,
   "metadata": {
    "colab": {
     "base_uri": "https://localhost:8080/",
     "height": 301
    },
    "id": "ingYyWKMgrE7",
    "outputId": "2e4c79cf-a4c2-4b67-af19-b1ea530b3fd1"
   },
   "outputs": [
    {
     "data": {
      "text/plain": [
       "<AxesSubplot:xlabel='HourlyRate', ylabel='WeeklyHoursWorked'>"
      ]
     },
     "execution_count": 13,
     "metadata": {},
     "output_type": "execute_result"
    },
    {
     "data": {
      "image/png": "[encoded data removed]",
      "text/plain": [
       "<Figure size 432x288 with 1 Axes>"
      ]
     },
     "metadata": {
      "needs_background": "light"
     },
     "output_type": "display_data"
    }
   ],
   "source": [
    "#scatter plot of Profits vs. Marketing Spending, colored by State\n",
    "sb.scatterplot(x=\"HourlyRate\",y=\"WeeklyHoursWorked\",hue=\"Gender\", data=dataset)\n"
   ]
  },
  {
   "cell_type": "markdown",
   "metadata": {
    "id": "i42IJHUfY7a0"
   },
   "source": [
    "### Preparing data for model training -- Data Wrangging"
   ]
  },
  {
   "cell_type": "code",
   "execution_count": 14,
   "metadata": {
    "id": "jGaC-tHLguiE"
   },
   "outputs": [],
   "source": [
    "#defining input and outcome variables\n",
    "y = dataset[['JobSatisfactionRating']]  #profit\n",
    "\n",
    "X = dataset.drop(['Employee ID','JobSatisfactionRating'],axis=1) #other variables"
   ]
  },
  {
   "cell_type": "code",
   "execution_count": 15,
   "metadata": {
    "colab": {
     "base_uri": "https://localhost:8080/",
     "height": 173
    },
    "id": "QDtmn2pFhb1e",
    "outputId": "11d03b2c-5649-4329-c5ad-2ed8854aa496"
   },
   "outputs": [
    {
     "data": {
      "text/html": [
       "<div>\n",
       "<style scoped>\n",
       "    .dataframe tbody tr th:only-of-type {\n",
       "        vertical-align: middle;\n",
       "    }\n",
       "\n",
       "    .dataframe tbody tr th {\n",
       "        vertical-align: top;\n",
       "    }\n",
       "\n",
       "    .dataframe thead th {\n",
       "        text-align: right;\n",
       "    }\n",
       "</style>\n",
       "<table border=\"1\" class=\"dataframe\">\n",
       "  <thead>\n",
       "    <tr style=\"text-align: right;\">\n",
       "      <th></th>\n",
       "      <th>Age</th>\n",
       "      <th>Gender</th>\n",
       "      <th>Education Level</th>\n",
       "      <th>HourlyRate</th>\n",
       "      <th>JobLevel</th>\n",
       "      <th>YearsSincePromotion</th>\n",
       "      <th>WeeklyHoursWorked</th>\n",
       "      <th>LastPerformanceRating</th>\n",
       "      <th>YearsAtCompany</th>\n",
       "      <th>YearsCurrentRole</th>\n",
       "    </tr>\n",
       "  </thead>\n",
       "  <tbody>\n",
       "    <tr>\n",
       "      <th>0</th>\n",
       "      <td>41</td>\n",
       "      <td>0</td>\n",
       "      <td>2</td>\n",
       "      <td>94</td>\n",
       "      <td>2</td>\n",
       "      <td>3</td>\n",
       "      <td>40</td>\n",
       "      <td>3</td>\n",
       "      <td>6</td>\n",
       "      <td>4</td>\n",
       "    </tr>\n",
       "    <tr>\n",
       "      <th>1</th>\n",
       "      <td>49</td>\n",
       "      <td>1</td>\n",
       "      <td>1</td>\n",
       "      <td>61</td>\n",
       "      <td>8</td>\n",
       "      <td>1</td>\n",
       "      <td>47</td>\n",
       "      <td>4</td>\n",
       "      <td>10</td>\n",
       "      <td>7</td>\n",
       "    </tr>\n",
       "    <tr>\n",
       "      <th>2</th>\n",
       "      <td>37</td>\n",
       "      <td>1</td>\n",
       "      <td>2</td>\n",
       "      <td>92</td>\n",
       "      <td>1</td>\n",
       "      <td>0</td>\n",
       "      <td>40</td>\n",
       "      <td>3</td>\n",
       "      <td>0</td>\n",
       "      <td>0</td>\n",
       "    </tr>\n",
       "  </tbody>\n",
       "</table>\n",
       "</div>"
      ],
      "text/plain": [
       "   Age  Gender  Education Level  HourlyRate  JobLevel  YearsSincePromotion  \\\n",
       "0   41       0                2          94         2                    3   \n",
       "1   49       1                1          61         8                    1   \n",
       "2   37       1                2          92         1                    0   \n",
       "\n",
       "   WeeklyHoursWorked  LastPerformanceRating  YearsAtCompany  YearsCurrentRole  \n",
       "0                 40                      3               6                 4  \n",
       "1                 47                      4              10                 7  \n",
       "2                 40                      3               0                 0  "
      ]
     },
     "execution_count": 15,
     "metadata": {},
     "output_type": "execute_result"
    }
   ],
   "source": [
    "#before encoding the State variable\n",
    "X.head(3)"
   ]
  },
  {
   "cell_type": "code",
   "execution_count": 16,
   "metadata": {
    "colab": {
     "base_uri": "https://localhost:8080/",
     "height": 136
    },
    "id": "YugY2jGSg2QU",
    "outputId": "50942bba-fc17-4e05-fcb4-2addd6bcddfa"
   },
   "outputs": [
    {
     "data": {
      "text/html": [
       "<div>\n",
       "<style scoped>\n",
       "    .dataframe tbody tr th:only-of-type {\n",
       "        vertical-align: middle;\n",
       "    }\n",
       "\n",
       "    .dataframe tbody tr th {\n",
       "        vertical-align: top;\n",
       "    }\n",
       "\n",
       "    .dataframe thead th {\n",
       "        text-align: right;\n",
       "    }\n",
       "</style>\n",
       "<table border=\"1\" class=\"dataframe\">\n",
       "  <thead>\n",
       "    <tr style=\"text-align: right;\">\n",
       "      <th></th>\n",
       "      <th>1</th>\n",
       "      <th>2</th>\n",
       "      <th>3</th>\n",
       "      <th>4</th>\n",
       "      <th>5</th>\n",
       "    </tr>\n",
       "  </thead>\n",
       "  <tbody>\n",
       "    <tr>\n",
       "      <th>0</th>\n",
       "      <td>0</td>\n",
       "      <td>1</td>\n",
       "      <td>0</td>\n",
       "      <td>0</td>\n",
       "      <td>0</td>\n",
       "    </tr>\n",
       "    <tr>\n",
       "      <th>1</th>\n",
       "      <td>1</td>\n",
       "      <td>0</td>\n",
       "      <td>0</td>\n",
       "      <td>0</td>\n",
       "      <td>0</td>\n",
       "    </tr>\n",
       "    <tr>\n",
       "      <th>2</th>\n",
       "      <td>0</td>\n",
       "      <td>1</td>\n",
       "      <td>0</td>\n",
       "      <td>0</td>\n",
       "      <td>0</td>\n",
       "    </tr>\n",
       "  </tbody>\n",
       "</table>\n",
       "</div>"
      ],
      "text/plain": [
       "   1  2  3  4  5\n",
       "0  0  1  0  0  0\n",
       "1  1  0  0  0  0\n",
       "2  0  1  0  0  0"
      ]
     },
     "execution_count": 16,
     "metadata": {},
     "output_type": "execute_result"
    }
   ],
   "source": [
    "#The state variable is categorical, \n",
    "#we use binary encoding to create binary variable for each level of the State variable\n",
    "pd.get_dummies(X['Education Level']).head(3)"
   ]
  },
  {
   "cell_type": "code",
   "execution_count": 17,
   "metadata": {
    "id": "oXChaER2rzDC"
   },
   "outputs": [],
   "source": [
    "#add the binary encoded Education Level variables to our X variable\n",
    "X=pd.concat([X,pd.get_dummies(X['Education Level'])],axis=1) \n",
    "# drop the Education Level column, since we now have the binary encoded vars\n",
    "X.drop(['Education Level'],axis=1,inplace=True)"
   ]
  },
  {
   "cell_type": "code",
   "execution_count": 18,
   "metadata": {
    "colab": {
     "base_uri": "https://localhost:8080/",
     "height": 156
    },
    "id": "TSRqUSgq0anB",
    "outputId": "41590d9c-0d72-4005-94e7-1e49b204267c"
   },
   "outputs": [
    {
     "data": {
      "text/html": [
       "<div>\n",
       "<style scoped>\n",
       "    .dataframe tbody tr th:only-of-type {\n",
       "        vertical-align: middle;\n",
       "    }\n",
       "\n",
       "    .dataframe tbody tr th {\n",
       "        vertical-align: top;\n",
       "    }\n",
       "\n",
       "    .dataframe thead th {\n",
       "        text-align: right;\n",
       "    }\n",
       "</style>\n",
       "<table border=\"1\" class=\"dataframe\">\n",
       "  <thead>\n",
       "    <tr style=\"text-align: right;\">\n",
       "      <th></th>\n",
       "      <th>Age</th>\n",
       "      <th>Gender</th>\n",
       "      <th>HourlyRate</th>\n",
       "      <th>JobLevel</th>\n",
       "      <th>YearsSincePromotion</th>\n",
       "      <th>WeeklyHoursWorked</th>\n",
       "      <th>LastPerformanceRating</th>\n",
       "      <th>YearsAtCompany</th>\n",
       "      <th>YearsCurrentRole</th>\n",
       "      <th>1</th>\n",
       "      <th>2</th>\n",
       "      <th>3</th>\n",
       "      <th>4</th>\n",
       "    </tr>\n",
       "  </thead>\n",
       "  <tbody>\n",
       "    <tr>\n",
       "      <th>0</th>\n",
       "      <td>41</td>\n",
       "      <td>0</td>\n",
       "      <td>94</td>\n",
       "      <td>2</td>\n",
       "      <td>3</td>\n",
       "      <td>40</td>\n",
       "      <td>3</td>\n",
       "      <td>6</td>\n",
       "      <td>4</td>\n",
       "      <td>0</td>\n",
       "      <td>1</td>\n",
       "      <td>0</td>\n",
       "      <td>0</td>\n",
       "    </tr>\n",
       "    <tr>\n",
       "      <th>1</th>\n",
       "      <td>49</td>\n",
       "      <td>1</td>\n",
       "      <td>61</td>\n",
       "      <td>8</td>\n",
       "      <td>1</td>\n",
       "      <td>47</td>\n",
       "      <td>4</td>\n",
       "      <td>10</td>\n",
       "      <td>7</td>\n",
       "      <td>1</td>\n",
       "      <td>0</td>\n",
       "      <td>0</td>\n",
       "      <td>0</td>\n",
       "    </tr>\n",
       "    <tr>\n",
       "      <th>2</th>\n",
       "      <td>37</td>\n",
       "      <td>1</td>\n",
       "      <td>92</td>\n",
       "      <td>1</td>\n",
       "      <td>0</td>\n",
       "      <td>40</td>\n",
       "      <td>3</td>\n",
       "      <td>0</td>\n",
       "      <td>0</td>\n",
       "      <td>0</td>\n",
       "      <td>1</td>\n",
       "      <td>0</td>\n",
       "      <td>0</td>\n",
       "    </tr>\n",
       "  </tbody>\n",
       "</table>\n",
       "</div>"
      ],
      "text/plain": [
       "   Age  Gender  HourlyRate  JobLevel  YearsSincePromotion  WeeklyHoursWorked  \\\n",
       "0   41       0          94         2                    3                 40   \n",
       "1   49       1          61         8                    1                 47   \n",
       "2   37       1          92         1                    0                 40   \n",
       "\n",
       "   LastPerformanceRating  YearsAtCompany  YearsCurrentRole  1  2  3  4  \n",
       "0                      3               6                 4  0  1  0  0  \n",
       "1                      4              10                 7  1  0  0  0  \n",
       "2                      3               0                 0  0  1  0  0  "
      ]
     },
     "execution_count": 18,
     "metadata": {},
     "output_type": "execute_result"
    }
   ],
   "source": [
    "#after encoding the State variable\n",
    "X.drop([5],axis=1,inplace=True)\n",
    "X.head(3)"
   ]
  },
  {
   "cell_type": "markdown",
   "metadata": {
    "id": "pjuGxQnHjWPt"
   },
   "source": [
    "### Splitting the data into Train and Test sets\n",
    "\n",
    "Keeping 20% for testing and the rest for training "
   ]
  },
  {
   "cell_type": "code",
   "execution_count": 19,
   "metadata": {
    "id": "9kHStDLBh-Pc"
   },
   "outputs": [],
   "source": [
    "# Splitting the dataset into the Training set and Test set\n",
    "from sklearn.model_selection import train_test_split\n",
    "X_train, X_test, Y_train, Y_test = train_test_split(X, y, test_size = 0.2, random_state = 123)  #using same random_state value for replicability\n"
   ]
  },
  {
   "cell_type": "code",
   "execution_count": 20,
   "metadata": {
    "id": "y00n3axvMjdz"
   },
   "outputs": [
    {
     "data": {
      "text/html": [
       "<div>\n",
       "<style scoped>\n",
       "    .dataframe tbody tr th:only-of-type {\n",
       "        vertical-align: middle;\n",
       "    }\n",
       "\n",
       "    .dataframe tbody tr th {\n",
       "        vertical-align: top;\n",
       "    }\n",
       "\n",
       "    .dataframe thead th {\n",
       "        text-align: right;\n",
       "    }\n",
       "</style>\n",
       "<table border=\"1\" class=\"dataframe\">\n",
       "  <thead>\n",
       "    <tr style=\"text-align: right;\">\n",
       "      <th></th>\n",
       "      <th>Age</th>\n",
       "      <th>Gender</th>\n",
       "      <th>HourlyRate</th>\n",
       "      <th>JobLevel</th>\n",
       "      <th>YearsSincePromotion</th>\n",
       "      <th>WeeklyHoursWorked</th>\n",
       "      <th>LastPerformanceRating</th>\n",
       "      <th>YearsAtCompany</th>\n",
       "      <th>YearsCurrentRole</th>\n",
       "      <th>1</th>\n",
       "      <th>2</th>\n",
       "      <th>3</th>\n",
       "      <th>4</th>\n",
       "    </tr>\n",
       "  </thead>\n",
       "  <tbody>\n",
       "    <tr>\n",
       "      <th>count</th>\n",
       "      <td>500.000000</td>\n",
       "      <td>500.000000</td>\n",
       "      <td>500.000000</td>\n",
       "      <td>500.000000</td>\n",
       "      <td>500.000000</td>\n",
       "      <td>500.000000</td>\n",
       "      <td>500.000000</td>\n",
       "      <td>500.000000</td>\n",
       "      <td>500.000000</td>\n",
       "      <td>500.000000</td>\n",
       "      <td>500.000000</td>\n",
       "      <td>500.000000</td>\n",
       "      <td>500.000000</td>\n",
       "    </tr>\n",
       "    <tr>\n",
       "      <th>mean</th>\n",
       "      <td>37.234000</td>\n",
       "      <td>0.588000</td>\n",
       "      <td>89.910000</td>\n",
       "      <td>4.014000</td>\n",
       "      <td>2.908000</td>\n",
       "      <td>40.748000</td>\n",
       "      <td>3.158000</td>\n",
       "      <td>7.296000</td>\n",
       "      <td>4.358000</td>\n",
       "      <td>0.126000</td>\n",
       "      <td>0.214000</td>\n",
       "      <td>0.356000</td>\n",
       "      <td>0.272000</td>\n",
       "    </tr>\n",
       "    <tr>\n",
       "      <th>std</th>\n",
       "      <td>9.478128</td>\n",
       "      <td>0.492688</td>\n",
       "      <td>41.259114</td>\n",
       "      <td>2.555556</td>\n",
       "      <td>3.367226</td>\n",
       "      <td>7.799369</td>\n",
       "      <td>0.365106</td>\n",
       "      <td>6.653791</td>\n",
       "      <td>3.779206</td>\n",
       "      <td>0.332182</td>\n",
       "      <td>0.410538</td>\n",
       "      <td>0.479295</td>\n",
       "      <td>0.445436</td>\n",
       "    </tr>\n",
       "    <tr>\n",
       "      <th>min</th>\n",
       "      <td>18.000000</td>\n",
       "      <td>0.000000</td>\n",
       "      <td>30.000000</td>\n",
       "      <td>1.000000</td>\n",
       "      <td>0.000000</td>\n",
       "      <td>16.000000</td>\n",
       "      <td>3.000000</td>\n",
       "      <td>0.000000</td>\n",
       "      <td>0.000000</td>\n",
       "      <td>0.000000</td>\n",
       "      <td>0.000000</td>\n",
       "      <td>0.000000</td>\n",
       "      <td>0.000000</td>\n",
       "    </tr>\n",
       "    <tr>\n",
       "      <th>25%</th>\n",
       "      <td>30.000000</td>\n",
       "      <td>0.000000</td>\n",
       "      <td>59.000000</td>\n",
       "      <td>2.000000</td>\n",
       "      <td>0.000000</td>\n",
       "      <td>40.000000</td>\n",
       "      <td>3.000000</td>\n",
       "      <td>3.000000</td>\n",
       "      <td>2.000000</td>\n",
       "      <td>0.000000</td>\n",
       "      <td>0.000000</td>\n",
       "      <td>0.000000</td>\n",
       "      <td>0.000000</td>\n",
       "    </tr>\n",
       "    <tr>\n",
       "      <th>50%</th>\n",
       "      <td>36.000000</td>\n",
       "      <td>1.000000</td>\n",
       "      <td>79.500000</td>\n",
       "      <td>3.000000</td>\n",
       "      <td>1.500000</td>\n",
       "      <td>40.000000</td>\n",
       "      <td>3.000000</td>\n",
       "      <td>5.000000</td>\n",
       "      <td>3.000000</td>\n",
       "      <td>0.000000</td>\n",
       "      <td>0.000000</td>\n",
       "      <td>0.000000</td>\n",
       "      <td>0.000000</td>\n",
       "    </tr>\n",
       "    <tr>\n",
       "      <th>75%</th>\n",
       "      <td>43.000000</td>\n",
       "      <td>1.000000</td>\n",
       "      <td>116.000000</td>\n",
       "      <td>6.000000</td>\n",
       "      <td>5.000000</td>\n",
       "      <td>45.000000</td>\n",
       "      <td>3.000000</td>\n",
       "      <td>10.000000</td>\n",
       "      <td>7.000000</td>\n",
       "      <td>0.000000</td>\n",
       "      <td>0.000000</td>\n",
       "      <td>1.000000</td>\n",
       "      <td>1.000000</td>\n",
       "    </tr>\n",
       "    <tr>\n",
       "      <th>max</th>\n",
       "      <td>60.000000</td>\n",
       "      <td>1.000000</td>\n",
       "      <td>193.000000</td>\n",
       "      <td>10.000000</td>\n",
       "      <td>15.000000</td>\n",
       "      <td>96.000000</td>\n",
       "      <td>4.000000</td>\n",
       "      <td>40.000000</td>\n",
       "      <td>18.000000</td>\n",
       "      <td>1.000000</td>\n",
       "      <td>1.000000</td>\n",
       "      <td>1.000000</td>\n",
       "      <td>1.000000</td>\n",
       "    </tr>\n",
       "  </tbody>\n",
       "</table>\n",
       "</div>"
      ],
      "text/plain": [
       "              Age      Gender  HourlyRate    JobLevel  YearsSincePromotion  \\\n",
       "count  500.000000  500.000000  500.000000  500.000000           500.000000   \n",
       "mean    37.234000    0.588000   89.910000    4.014000             2.908000   \n",
       "std      9.478128    0.492688   41.259114    2.555556             3.367226   \n",
       "min     18.000000    0.000000   30.000000    1.000000             0.000000   \n",
       "25%     30.000000    0.000000   59.000000    2.000000             0.000000   \n",
       "50%     36.000000    1.000000   79.500000    3.000000             1.500000   \n",
       "75%     43.000000    1.000000  116.000000    6.000000             5.000000   \n",
       "max     60.000000    1.000000  193.000000   10.000000            15.000000   \n",
       "\n",
       "       WeeklyHoursWorked  LastPerformanceRating  YearsAtCompany  \\\n",
       "count         500.000000             500.000000      500.000000   \n",
       "mean           40.748000               3.158000        7.296000   \n",
       "std             7.799369               0.365106        6.653791   \n",
       "min            16.000000               3.000000        0.000000   \n",
       "25%            40.000000               3.000000        3.000000   \n",
       "50%            40.000000               3.000000        5.000000   \n",
       "75%            45.000000               3.000000       10.000000   \n",
       "max            96.000000               4.000000       40.000000   \n",
       "\n",
       "       YearsCurrentRole           1           2           3           4  \n",
       "count        500.000000  500.000000  500.000000  500.000000  500.000000  \n",
       "mean           4.358000    0.126000    0.214000    0.356000    0.272000  \n",
       "std            3.779206    0.332182    0.410538    0.479295    0.445436  \n",
       "min            0.000000    0.000000    0.000000    0.000000    0.000000  \n",
       "25%            2.000000    0.000000    0.000000    0.000000    0.000000  \n",
       "50%            3.000000    0.000000    0.000000    0.000000    0.000000  \n",
       "75%            7.000000    0.000000    0.000000    1.000000    1.000000  \n",
       "max           18.000000    1.000000    1.000000    1.000000    1.000000  "
      ]
     },
     "execution_count": 20,
     "metadata": {},
     "output_type": "execute_result"
    }
   ],
   "source": [
    "# the resulting datasets after splitting\n",
    "X_train.describe()"
   ]
  },
  {
   "cell_type": "markdown",
   "metadata": {
    "id": "ZvmTY-pug5DN"
   },
   "source": [
    "### Linear regression model"
   ]
  },
  {
   "cell_type": "code",
   "execution_count": 21,
   "metadata": {
    "colab": {
     "base_uri": "https://localhost:8080/"
    },
    "id": "DnmCsAtR0kZq",
    "outputId": "11dcec42-5abe-420f-f27d-ddb33236d91d"
   },
   "outputs": [
    {
     "data": {
      "text/plain": [
       "LinearRegression()"
      ]
     },
     "execution_count": 21,
     "metadata": {},
     "output_type": "execute_result"
    }
   ],
   "source": [
    "#### Fitting Multiple Linear Regression to the Training set  ####\n",
    "from sklearn.linear_model import LinearRegression\n",
    "lin_reg = LinearRegression()\n",
    "lin_reg.fit(X_train, Y_train)"
   ]
  },
  {
   "cell_type": "code",
   "execution_count": 25,
   "metadata": {
    "id": "l6v6vlWJ0woC"
   },
   "outputs": [
    {
     "data": {
      "text/plain": [
       "array([[ 6.10895697],\n",
       "       [ 6.41793969],\n",
       "       [ 5.79650923],\n",
       "       [ 6.73364349],\n",
       "       [ 6.14027836],\n",
       "       [ 6.3921542 ],\n",
       "       [ 7.13770801],\n",
       "       [ 6.11675925],\n",
       "       [ 5.46810256],\n",
       "       [ 7.23897028],\n",
       "       [ 5.5272481 ],\n",
       "       [ 8.48259235],\n",
       "       [ 5.85746168],\n",
       "       [ 6.20046187],\n",
       "       [ 5.51438112],\n",
       "       [ 8.24855483],\n",
       "       [ 9.25211189],\n",
       "       [ 6.24958818],\n",
       "       [ 5.57761472],\n",
       "       [ 5.87460466],\n",
       "       [ 5.96699508],\n",
       "       [ 7.31817026],\n",
       "       [ 5.13561672],\n",
       "       [ 5.55632388],\n",
       "       [ 8.76357942],\n",
       "       [ 6.68224938],\n",
       "       [ 6.57843219],\n",
       "       [ 5.80137483],\n",
       "       [ 9.68155994],\n",
       "       [ 8.54152924],\n",
       "       [ 5.13571462],\n",
       "       [ 6.65719343],\n",
       "       [ 7.65415108],\n",
       "       [ 7.497321  ],\n",
       "       [ 5.59505109],\n",
       "       [ 6.46774634],\n",
       "       [ 9.90883113],\n",
       "       [ 5.97267396],\n",
       "       [ 5.12732608],\n",
       "       [ 7.15530712],\n",
       "       [ 8.62811622],\n",
       "       [ 9.00613559],\n",
       "       [ 6.88671428],\n",
       "       [ 6.4468567 ],\n",
       "       [ 6.3058011 ],\n",
       "       [ 8.3196579 ],\n",
       "       [ 6.61281281],\n",
       "       [ 5.94884746],\n",
       "       [ 9.69684125],\n",
       "       [ 6.55712645],\n",
       "       [ 5.49965581],\n",
       "       [ 9.24980544],\n",
       "       [ 7.57889823],\n",
       "       [ 7.17738568],\n",
       "       [ 8.36190726],\n",
       "       [ 7.76128554],\n",
       "       [ 7.04048356],\n",
       "       [ 6.83181744],\n",
       "       [ 6.72616619],\n",
       "       [ 6.64503575],\n",
       "       [10.21469046],\n",
       "       [ 5.97197467],\n",
       "       [ 5.82744781],\n",
       "       [ 9.38891479],\n",
       "       [ 5.82107761],\n",
       "       [ 6.00186945],\n",
       "       [ 6.28653985],\n",
       "       [ 6.62702816],\n",
       "       [ 8.78175617],\n",
       "       [ 6.60190713],\n",
       "       [ 6.64261184],\n",
       "       [ 7.64132858],\n",
       "       [ 6.05415604],\n",
       "       [ 9.11624657],\n",
       "       [ 6.95361082],\n",
       "       [ 8.45612279],\n",
       "       [ 6.31828537],\n",
       "       [ 5.70700786],\n",
       "       [ 8.97496855],\n",
       "       [ 9.87875115],\n",
       "       [ 8.52332848],\n",
       "       [ 6.00299106],\n",
       "       [ 5.41334865],\n",
       "       [ 5.72593099],\n",
       "       [ 5.59150467],\n",
       "       [ 5.55707823],\n",
       "       [ 5.41400976],\n",
       "       [ 5.90350954],\n",
       "       [ 6.10421009],\n",
       "       [ 6.90228197],\n",
       "       [ 6.15467637],\n",
       "       [ 5.72993962],\n",
       "       [ 6.74918228],\n",
       "       [ 6.22975019],\n",
       "       [ 4.96077863],\n",
       "       [ 6.07106896],\n",
       "       [ 8.46299355],\n",
       "       [ 5.44113594],\n",
       "       [ 6.813485  ],\n",
       "       [ 6.83799975],\n",
       "       [ 9.77326884],\n",
       "       [ 8.12319792],\n",
       "       [ 5.41598529],\n",
       "       [ 6.4691146 ],\n",
       "       [ 7.82889752],\n",
       "       [ 6.54868701],\n",
       "       [ 7.88249107],\n",
       "       [ 5.25180084],\n",
       "       [ 5.51920675],\n",
       "       [ 9.33392558],\n",
       "       [ 5.16997138],\n",
       "       [ 8.29886411],\n",
       "       [ 7.79680805],\n",
       "       [ 6.67923434],\n",
       "       [ 6.66689007],\n",
       "       [ 5.43104762],\n",
       "       [ 6.02759768],\n",
       "       [ 8.83076481],\n",
       "       [ 7.05231426],\n",
       "       [ 4.94493269],\n",
       "       [ 6.52038755],\n",
       "       [ 5.07813994],\n",
       "       [ 8.27474525],\n",
       "       [ 7.79646335],\n",
       "       [ 7.23721552]])"
      ]
     },
     "execution_count": 25,
     "metadata": {},
     "output_type": "execute_result"
    }
   ],
   "source": [
    "# Predicting the Test set results\n",
    "y_pred_lin = lin_reg.predict(X_test)\n",
    "y_pred_lin"
   ]
  },
  {
   "cell_type": "markdown",
   "metadata": {
    "id": "m4yAs6xuguZ9"
   },
   "source": [
    "### Evaluating the model\n",
    "importing model evaluation metrics from sklearn "
   ]
  },
  {
   "cell_type": "code",
   "execution_count": 26,
   "metadata": {
    "colab": {
     "base_uri": "https://localhost:8080/"
    },
    "id": "D8FwgPMJ042j",
    "outputId": "fb4f61be-1251-4146-8673-57567e860bb7"
   },
   "outputs": [
    {
     "name": "stdout",
     "output_type": "stream",
     "text": [
      "Coefficients: \n",
      " [[ 0.00482626  0.11256414  0.02779865  0.12167708 -0.06548434  0.00243174\n",
      "  -0.24522371 -0.01698523  0.02745693 -0.15480991 -0.11070706 -0.25659579\n",
      "  -0.32734171]]\n",
      "Root Mean squared error: 1.13\n",
      "Mean absolute error: 0.90\n"
     ]
    }
   ],
   "source": [
    "from sklearn import metrics\n",
    "import math\n",
    "# The coefficients\n",
    "print('Coefficients: \\n', lin_reg.coef_)\n",
    "# The mean squared error\n",
    "#print(\"Mean squared error: %.2f\" % metrics.mean_squared_error(Y_test, y_pred_lin))\n",
    "print(\"Root Mean squared error: %.2f\" % math.sqrt(metrics.mean_squared_error(Y_test, y_pred_lin)))\n",
    "# The mean absolute error\n",
    "print(\"Mean absolute error: %.2f\" % metrics.mean_absolute_error(Y_test, y_pred_lin))\n",
    "# R-square: 1 is perfect prediction\n",
    "#print('R-square: %.2f' % metrics.r2_score(Y_test, y_pred_lin))\n"
   ]
  },
  {
   "cell_type": "markdown",
   "metadata": {
    "id": "yYmDM7WMhC1F"
   },
   "source": [
    "### Decision Tree Regression model"
   ]
  },
  {
   "cell_type": "code",
   "execution_count": 28,
   "metadata": {
    "colab": {
     "base_uri": "https://localhost:8080/"
    },
    "id": "zy3ZyrWz141d",
    "outputId": "f7e982d6-7e48-4565-b53a-75f8a6e20dcf"
   },
   "outputs": [
    {
     "data": {
      "text/plain": [
       "DecisionTreeRegressor(random_state=123)"
      ]
     },
     "execution_count": 28,
     "metadata": {},
     "output_type": "execute_result"
    }
   ],
   "source": [
    "#### Fitting Decision Tree Regression to the dataset  ###########\n",
    "from sklearn.tree import DecisionTreeRegressor\n",
    "DecTree_reg = DecisionTreeRegressor(random_state = 123)\n",
    "DecTree_reg.fit(X_train, Y_train)"
   ]
  },
  {
   "cell_type": "markdown",
   "metadata": {},
   "source": [
    "### Evaluating the model"
   ]
  },
  {
   "cell_type": "code",
   "execution_count": 29,
   "metadata": {
    "colab": {
     "base_uri": "https://localhost:8080/"
    },
    "id": "tcHqI-Zf2Fxj",
    "outputId": "04a8b798-b766-439d-ebba-9383b299cc45"
   },
   "outputs": [
    {
     "name": "stdout",
     "output_type": "stream",
     "text": [
      "Root Mean squared error: 1.65\n",
      "Mean absolute error: 1.23\n"
     ]
    }
   ],
   "source": [
    "# evaluating Decision Tree Regression\n",
    "y_pred_DT = DecTree_reg.predict(X_test)\n",
    "# The mean squared error\n",
    "print(\"Root Mean squared error: %.2f\" % math.sqrt(metrics.mean_squared_error(Y_test, y_pred_DT)))\n",
    "print(\"Mean absolute error: %.2f\" % metrics.mean_absolute_error(Y_test, y_pred_DT))"
   ]
  },
  {
   "cell_type": "markdown",
   "metadata": {
    "id": "n8-aWRx2hIr6"
   },
   "source": [
    "## Random Forest Regression"
   ]
  },
  {
   "cell_type": "code",
   "execution_count": 34,
   "metadata": {
    "colab": {
     "base_uri": "https://localhost:8080/"
    },
    "id": "ja4p6W1y2Kh8",
    "outputId": "fd02d673-513e-4023-f477-86bf557bc555"
   },
   "outputs": [
    {
     "name": "stderr",
     "output_type": "stream",
     "text": [
      "C:\\Users\\nicho\\AppData\\Local\\Temp/ipykernel_18696/3365393196.py:4: DataConversionWarning: A column-vector y was passed when a 1d array was expected. Please change the shape of y to (n_samples,), for example using ravel().\n",
      "  RandForest_reg.fit(X_train, Y_train)\n"
     ]
    },
    {
     "data": {
      "text/plain": [
       "RandomForestRegressor(min_samples_leaf=5, n_estimators=20, random_state=0)"
      ]
     },
     "execution_count": 34,
     "metadata": {},
     "output_type": "execute_result"
    }
   ],
   "source": [
    "#### Fitting Random Forest Regression to the dataset ##########\n",
    "from sklearn.ensemble import RandomForestRegressor\n",
    "RandForest_reg = RandomForestRegressor(n_estimators = 20, min_samples_leaf=5, random_state = 0)\n",
    "RandForest_reg.fit(X_train, Y_train)"
   ]
  },
  {
   "cell_type": "code",
   "execution_count": 35,
   "metadata": {
    "colab": {
     "base_uri": "https://localhost:8080/"
    },
    "id": "A_r_jHHG2Lo8",
    "outputId": "24ea3408-a327-4ef4-f855-040d989ad992"
   },
   "outputs": [
    {
     "name": "stdout",
     "output_type": "stream",
     "text": [
      "Root Mean squared error: 1.14\n",
      "Mean absolute error: 0.91\n"
     ]
    }
   ],
   "source": [
    "#evaluting RandForest_reg\n",
    "y_pred_RF = RandForest_reg.predict(X_test)\n",
    "#print(\"Mean squared error: %.2f\" % metrics.mean_squared_error(Y_test, y_pred_RF))\n",
    "print(\"Root Mean squared error: %.2f\" % math.sqrt(metrics.mean_squared_error(Y_test, y_pred_RF)))\n",
    "print(\"Mean absolute error: %.2f\" % metrics.mean_absolute_error(Y_test, y_pred_RF))"
   ]
  },
  {
   "cell_type": "markdown",
   "metadata": {
    "id": "eZ01eSu-hMgI"
   },
   "source": [
    "### Support Vector Regression"
   ]
  },
  {
   "cell_type": "code",
   "execution_count": 30,
   "metadata": {
    "id": "u5hLQleF2TfU"
   },
   "outputs": [],
   "source": [
    "#########  Support Vector Regression #########\n",
    "# Feature Scaling\n",
    "from sklearn.preprocessing import StandardScaler,minmax_scale\n",
    "sc_X = StandardScaler() \n",
    "sc_y = StandardScaler()\n",
    "X_train_sc = sc_X.fit_transform(X_train)\n",
    "y_train_sc = sc_y.fit_transform(Y_train) #.reshape(-1,1)"
   ]
  },
  {
   "cell_type": "code",
   "execution_count": 31,
   "metadata": {
    "colab": {
     "base_uri": "https://localhost:8080/"
    },
    "id": "R-26CxZH21md",
    "outputId": "5c768e91-04a7-425c-9cb0-a00d193afa18"
   },
   "outputs": [
    {
     "name": "stderr",
     "output_type": "stream",
     "text": [
      "C:\\Users\\nicho\\anaconda3\\lib\\site-packages\\sklearn\\utils\\validation.py:63: DataConversionWarning: A column-vector y was passed when a 1d array was expected. Please change the shape of y to (n_samples, ), for example using ravel().\n",
      "  return f(*args, **kwargs)\n"
     ]
    },
    {
     "data": {
      "text/plain": [
       "SVR()"
      ]
     },
     "execution_count": 31,
     "metadata": {},
     "output_type": "execute_result"
    }
   ],
   "source": [
    "# Fitting SVR to the dataset\n",
    "from sklearn.svm import SVR\n",
    "svr_reg = SVR(kernel = 'rbf')\n",
    "svr_reg.fit(X_train_sc, y_train_sc)"
   ]
  },
  {
   "cell_type": "markdown",
   "metadata": {},
   "source": [
    "### Evaluating the model"
   ]
  },
  {
   "cell_type": "code",
   "execution_count": 32,
   "metadata": {
    "colab": {
     "base_uri": "https://localhost:8080/"
    },
    "id": "nwAdfyaR26Rd",
    "outputId": "8865b696-aaf6-492e-b5d5-26cd908dfdd0"
   },
   "outputs": [
    {
     "name": "stdout",
     "output_type": "stream",
     "text": [
      "Root Mean squared error: 1.16\n",
      "Mean absolute error: 0.92\n"
     ]
    }
   ],
   "source": [
    "# evaluating SVR regresion\n",
    "y_pred = svr_reg.predict(sc_X.fit_transform(X_test))\n",
    "y_pred_SVC = sc_y.inverse_transform(y_pred) #inverse applying the scaler\n",
    "\n",
    "#print(\"Mean squared error: %.2f\" % metrics.mean_squared_error(Y_test, y_pred_SVC))\n",
    "print(\"Root Mean squared error: %.2f\" % math.sqrt(metrics.mean_squared_error(Y_test, y_pred_SVC)))\n",
    "print(\"Mean absolute error: %.2f\" % metrics.mean_absolute_error(Y_test, y_pred_SVC))"
   ]
  },
  {
   "cell_type": "markdown",
   "metadata": {
    "id": "bxplfuIXkwpv"
   },
   "source": [
    "### Comparing Different models\n"
   ]
  },
  {
   "cell_type": "code",
   "execution_count": 36,
   "metadata": {
    "colab": {
     "base_uri": "https://localhost:8080/",
     "height": 294
    },
    "id": "dAR8rySBstdH",
    "outputId": "3210a314-a4b3-44f0-9b64-711de7de4c4d"
   },
   "outputs": [
    {
     "data": {
      "image/png": "[encoded data removed]",
      "text/plain": [
       "<Figure size 432x288 with 1 Axes>"
      ]
     },
     "metadata": {
      "needs_background": "light"
     },
     "output_type": "display_data"
    }
   ],
   "source": [
    "import matplotlib.pyplot as plt\n",
    "names = ['Linear Reg','DT Reg','RF reg','SVR']\n",
    "predictions=[y_pred_lin,y_pred_DT,y_pred_RF,y_pred_SVC]\n",
    "results = []\n",
    "\n",
    "for y_pred in predictions:\n",
    "  rmse=round(math.sqrt(metrics.mean_squared_error(Y_test, y_pred)),2)\n",
    "  #mae=round(metrics.mean_absolute_error(Y_test, y_pred),2)\n",
    "  results.append(rmse) #change rmse to mae \n",
    "  \n",
    "# create a bar plot to compare values\n",
    "fig = plt.figure()\n",
    "fig.suptitle('Model RMSE Comparison: ')\n",
    "ax = fig.add_subplot(111)\n",
    "plt.bar(names,results)\n",
    "plt.show()"
   ]
  },
  {
   "cell_type": "code",
   "execution_count": 71,
   "metadata": {
    "colab": {
     "base_uri": "https://localhost:8080/"
    },
    "id": "Cmql6eb6e_Wg",
    "outputId": "27b316f4-b70e-493d-88eb-84c1a6d7d599"
   },
   "outputs": [
    {
     "data": {
      "text/plain": [
       "[1.13, 1.65, 1.14, 1.16]"
      ]
     },
     "execution_count": 71,
     "metadata": {
      "tags": []
     },
     "output_type": "execute_result"
    }
   ],
   "source": [
    "results"
   ]
  },
  {
   "cell_type": "markdown",
   "metadata": {},
   "source": [
    "### Conclusion\n",
    "Linear Regression is the best model in our case to predict employee satisfaction. This is because we have a low RMSE rate \n",
    "which means our model is effectively predicting satifaction rate given the other determinants. "
   ]
  },
  {
   "cell_type": "code",
   "execution_count": null,
   "metadata": {},
   "outputs": [],
   "source": []
  }
 ],
 "metadata": {
  "colab": {
   "collapsed_sections": [],
   "name": "1b_NumericPrediction.ipynb",
   "provenance": [],
   "toc_visible": true
  },
  "kernelspec": {
   "display_name": "Python 3 (ipykernel)",
   "language": "python",
   "name": "python3"
  },
  "language_info": {
   "codemirror_mode": {
    "name": "ipython",
    "version": 3
   },
   "file_extension": ".py",
   "mimetype": "text/x-python",
   "name": "python",
   "nbconvert_exporter": "python",
   "pygments_lexer": "ipython3",
   "version": "3.9.7"
  }
 },
 "nbformat": 4,
 "nbformat_minor": 1
}
